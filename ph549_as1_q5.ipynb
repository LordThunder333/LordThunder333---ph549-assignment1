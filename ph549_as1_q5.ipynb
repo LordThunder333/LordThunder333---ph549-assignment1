{
 "cells": [
  {
   "cell_type": "code",
   "execution_count": 14,
   "metadata": {},
   "outputs": [],
   "source": [
    "from scipy import stats\n",
    "import numpy as np\n",
    "import matplotlib.pyplot as plt\n",
    "%matplotlib inline"
   ]
  },
  {
   "cell_type": "code",
   "execution_count": 2,
   "metadata": {},
   "outputs": [],
   "source": [
    "file=open('/home/aragorn/Documents/course_work/PH 549/U00096.fna','r')\n",
    "s=''\n",
    "i=0\n",
    "for x in file:\n",
    "    if i==0:\n",
    "        pass\n",
    "    else:\n",
    "        s=s+x[0:-1]\n",
    "    i=1\n",
    "file.close()"
   ]
  },
  {
   "cell_type": "code",
   "execution_count": 3,
   "metadata": {},
   "outputs": [],
   "source": [
    "stop=['TAG','TAA','TGA']\n",
    "i=0\n",
    "i1=0\n",
    "i2=0\n",
    "index=[[],[],[]]\n",
    "while (i<len(s) and i1<len(s) and i2<len(s) and i1!=-1 and i2!=-1 and i!=-1):\n",
    "    i=i+1\n",
    "    i1=i1+1\n",
    "    i2=i2+1\n",
    "    i=s.find(stop[0],i)\n",
    "    if i==-1:\n",
    "        pass\n",
    "    else:\n",
    "#         print(i%3)\n",
    "#         print(index[i%3])\n",
    "        index[i%3].append(i)\n",
    "#     i=i+1\n",
    "    i1=s.find(stop[1],i1)\n",
    "    if i1==-1:\n",
    "        pass\n",
    "    else:\n",
    "#         print(i%3)\n",
    "#         print(index[i%3])\n",
    "        index[i1%3].append(i1)\n",
    "#     i1=i1+1\n",
    "    i2=s.find(stop[2],i2)\n",
    "    if i2==-1:\n",
    "        pass\n",
    "    else:\n",
    "#         print(i%3)\n",
    "#         print(index[i%3])\n",
    "        index[i2%3].append(i2)\n",
    "#     i2=i2+1\n"
   ]
  },
  {
   "cell_type": "code",
   "execution_count": 4,
   "metadata": {},
   "outputs": [],
   "source": [
    "for i in range(3):\n",
    "    index[i].sort()"
   ]
  },
  {
   "cell_type": "code",
   "execution_count": 5,
   "metadata": {},
   "outputs": [],
   "source": [
    "L=[[],[],[]]\n",
    "for i in range(3):\n",
    "    for x in range(len(index[i])-1):\n",
    "        L[i].append((index[i][x+1]-index[i][x])//3 - 1)\n"
   ]
  },
  {
   "cell_type": "code",
   "execution_count": 20,
   "metadata": {},
   "outputs": [
    {
     "data": {
      "image/png": "[encoded data removed]",
      "text/plain": [
       "<Figure size 432x288 with 1 Axes>"
      ]
     },
     "metadata": {
      "needs_background": "light"
     },
     "output_type": "display_data"
    }
   ],
   "source": [
    "L=np.array(L) ## For an inline plot. (I recommend looking at the created PDFs)\n",
    "fig,ax=plt.subplots(1)\n",
    "for i in range(1):\n",
    "    iqr = stats.iqr(L[i], interpolation = 'midpoint')\n",
    "    l=np.max(L[i])-np.min(L[i])\n",
    "    b=int(np.floor((l**(4/3))/2/iqr))\n",
    "    ax.hist(L[i],bins=b)\n",
    "    ax.set(xlabel='ORF Length',ylabel='Frequency',title='Reading frame: +'+str(i))"
   ]
  },
  {
   "cell_type": "code",
   "execution_count": 22,
   "metadata": {},
   "outputs": [
    {
     "data": {
      "image/png": "[encoded data removed]",
      "text/plain": [
       "<Figure size 432x288 with 1 Axes>"
      ]
     },
     "metadata": {
      "needs_background": "light"
     },
     "output_type": "display_data"
    }
   ],
   "source": [
    "L=np.array(L) ## For an inline plot. (I recommend looking at the created PDFs)\n",
    "fig,ax=plt.subplots(1)\n",
    "for i in range(1,2):\n",
    "    iqr = stats.iqr(L[i], interpolation = 'midpoint')\n",
    "    l=np.max(L[i])-np.min(L[i])\n",
    "    b=int(np.floor((l**(4/3))/2/iqr))\n",
    "    ax.hist(L[i],bins=b)\n",
    "    ax.set(xlabel='ORF Length',ylabel='Frequency',title='Reading frame: +'+str(i))"
   ]
  },
  {
   "cell_type": "code",
   "execution_count": 23,
   "metadata": {},
   "outputs": [
    {
     "data": {
      "image/png": "[encoded data removed]",
      "text/plain": [
       "<Figure size 432x288 with 1 Axes>"
      ]
     },
     "metadata": {
      "needs_background": "light"
     },
     "output_type": "display_data"
    }
   ],
   "source": [
    "L=np.array(L) ## For an inline plot. (I recommend looking at the created PDFs)\n",
    "fig,ax=plt.subplots(1)\n",
    "for i in range(2,3):\n",
    "    iqr = stats.iqr(L[i], interpolation = 'midpoint')\n",
    "    l=np.max(L[i])-np.min(L[i])\n",
    "    b=int(np.floor((l**(4/3))/2/iqr))\n",
    "    ax.hist(L[i],bins=b)\n",
    "    ax.set(xlabel='ORF Length',ylabel='Frequency',title='Reading frame: +'+str(i))"
   ]
  },
  {
   "cell_type": "code",
   "execution_count": 24,
   "metadata": {},
   "outputs": [],
   "source": [
    "# fig, ax = plt.subplots(3)\n",
    "L=np.array(L)\n",
    "for i in range(3):\n",
    "    iqr = stats.iqr(L[i], interpolation = 'midpoint')\n",
    "    l=np.max(L[i])-np.min(L[i])\n",
    "    b=int(np.floor((l**(4/3))/2/iqr))\n",
    "    plt.hist(L[i],bins=b)\n",
    "    plt.xlabel('ORF Length')\n",
    "    plt.ylabel('Frequency')\n",
    "    plt.title('Reading frame: +'+str(i))\n",
    "    plt.savefig('q5f'+str(i)+'.pdf')\n",
    "    plt.close()\n"
   ]
  },
  {
   "cell_type": "code",
   "execution_count": null,
   "metadata": {},
   "outputs": [],
   "source": []
  }
 ],
 "metadata": {
  "kernelspec": {
   "display_name": "Python 3",
   "language": "python",
   "name": "python3"
  },
  "language_info": {
   "codemirror_mode": {
    "name": "ipython",
    "version": 3
   },
   "file_extension": ".py",
   "mimetype": "text/x-python",
   "name": "python",
   "nbconvert_exporter": "python",
   "pygments_lexer": "ipython3",
   "version": "3.8.3"
  }
 },
 "nbformat": 4,
 "nbformat_minor": 4
}
