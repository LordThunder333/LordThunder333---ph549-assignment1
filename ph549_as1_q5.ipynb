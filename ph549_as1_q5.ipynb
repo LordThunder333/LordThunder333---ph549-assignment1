{
 "cells": [
  {
   "cell_type": "code",
   "execution_count": 1,
   "metadata": {},
   "outputs": [],
   "source": [
    "from scipy import stats\n",
    "import numpy as np\n",
    "import matplotlib.pyplot as plt\n",
    "%matplotlib inline"
   ]
  },
  {
   "cell_type": "code",
   "execution_count": 2,
   "metadata": {},
   "outputs": [],
   "source": [
    "file=open('/home/aragorn/Documents/course_work/PH 549/U00096.fna','r')\n",
    "s=''\n",
    "i=0\n",
    "for x in file:\n",
    "    if i==0:\n",
    "        pass\n",
    "    else:\n",
    "        s=s+x[0:-1]\n",
    "    i=1\n",
    "file.close()"
   ]
  },
  {
   "cell_type": "code",
   "execution_count": 3,
   "metadata": {
    "tags": []
   },
   "outputs": [
    {
     "name": "stdout",
     "output_type": "stream",
     "text": [
      "AGCTTT\n"
     ]
    }
   ],
   "source": [
    "print(s[0:6]) ## Verifying that there's no stop codon at the very beginning. "
   ]
  },
  {
   "cell_type": "code",
   "execution_count": 4,
   "metadata": {},
   "outputs": [],
   "source": [
    "stop=['TAG','TAA','TGA']\n",
    "i=0\n",
    "i1=0\n",
    "i2=0\n",
    "index=[[0],[1],[2]]\n",
    "while (i<len(s) and i1<len(s) and i2<len(s) and i1!=-1 and i2!=-1 and i!=-1):\n",
    "    i=i+1 ## The verification in the above cell was done because of this --- I start from index 1 and not index 0.\n",
    "    i1=i1+1\n",
    "    i2=i2+1\n",
    "    i=s.find(stop[0],i)\n",
    "    if i==-1:\n",
    "        pass\n",
    "    else:\n",
    "#         print(i%3)\n",
    "#         print(index[i%3])\n",
    "        index[i%3].append(i)\n",
    "#     i=i+1\n",
    "    i1=s.find(stop[1],i1)\n",
    "    if i1==-1:\n",
    "        pass\n",
    "    else:\n",
    "#         print(i%3)\n",
    "#         print(index[i%3])\n",
    "        index[i1%3].append(i1)\n",
    "#     i1=i1+1\n",
    "    i2=s.find(stop[2],i2)\n",
    "    if i2==-1:\n",
    "        pass\n",
    "    else:\n",
    "#         print(i%3)\n",
    "#         print(index[i%3])\n",
    "        index[i2%3].append(i2)\n",
    "#     i2=i2+1\n"
   ]
  },
  {
   "cell_type": "code",
   "execution_count": 5,
   "metadata": {},
   "outputs": [],
   "source": [
    "for i in range(3):\n",
    "    index[i].sort()"
   ]
  },
  {
   "cell_type": "code",
   "execution_count": 6,
   "metadata": {},
   "outputs": [],
   "source": [
    "L=[[],[],[]]\n",
    "for i in range(3):\n",
    "    for x in range(len(index[i])-1):\n",
    "        L[i].append((index[i][x+1]-index[i][x])//3 - 1)\n",
    "    L[i][0]=L[i][0]+1 ## The first ORF isn't preceded by a stop codon.\n"
   ]
  },
  {
   "cell_type": "code",
   "execution_count": 7,
   "metadata": {},
   "outputs": [
    {
     "data": {
      "image/png": "[encoded data removed]",
      "text/plain": [
       "<Figure size 432x288 with 1 Axes>"
      ]
     },
     "metadata": {
      "needs_background": "light"
     },
     "output_type": "display_data"
    }
   ],
   "source": [
    "L=np.array(L) ## For an inline plot. (I recommend looking at the created PDFs)\n",
    "fig,ax=plt.subplots(1)\n",
    "for i in range(1):\n",
    "    iqr = stats.iqr(L[i], interpolation = 'midpoint')\n",
    "    l=np.max(L[i])-np.min(L[i])\n",
    "    b=int(np.floor((l**(4/3))/2/iqr))\n",
    "    ax.hist(L[i],bins=b)\n",
    "    ax.set(xlabel='ORF Length',ylabel='Frequency',title='Reading frame: +'+str(i))"
   ]
  },
  {
   "cell_type": "code",
   "execution_count": 8,
   "metadata": {},
   "outputs": [
    {
     "data": {
      "image/png": "[encoded data removed]",
      "text/plain": [
       "<Figure size 432x288 with 1 Axes>"
      ]
     },
     "metadata": {
      "needs_background": "light"
     },
     "output_type": "display_data"
    }
   ],
   "source": [
    "L=np.array(L) ## For an inline plot. (I recommend looking at the created PDFs)\n",
    "fig,ax=plt.subplots(1)\n",
    "for i in range(1,2):\n",
    "    iqr = stats.iqr(L[i], interpolation = 'midpoint')\n",
    "    l=np.max(L[i])-np.min(L[i])\n",
    "    b=int(np.floor((l**(4/3))/2/iqr))\n",
    "    ax.hist(L[i],bins=b)\n",
    "    ax.set(xlabel='ORF Length',ylabel='Frequency',title='Reading frame: +'+str(i))"
   ]
  },
  {
   "cell_type": "code",
   "execution_count": 9,
   "metadata": {},
   "outputs": [
    {
     "data": {
      "image/png": "[encoded data removed]",
      "text/plain": [
       "<Figure size 432x288 with 1 Axes>"
      ]
     },
     "metadata": {
      "needs_background": "light"
     },
     "output_type": "display_data"
    }
   ],
   "source": [
    "L=np.array(L) ## For an inline plot. (I recommend looking at the created PDFs)\n",
    "fig,ax=plt.subplots(1)\n",
    "for i in range(2,3):\n",
    "    iqr = stats.iqr(L[i], interpolation = 'midpoint')\n",
    "    l=np.max(L[i])-np.min(L[i])\n",
    "    b=int(np.floor((l**(4/3))/2/iqr))\n",
    "    ax.hist(L[i],bins=b)\n",
    "    ax.set(xlabel='ORF Length',ylabel='Frequency',title='Reading frame: +'+str(i))"
   ]
  },
  {
   "cell_type": "code",
   "execution_count": 10,
   "metadata": {},
   "outputs": [],
   "source": [
    "# fig, ax = plt.subplots(3)\n",
    "L=np.array(L)\n",
    "for i in range(3):\n",
    "    iqr = stats.iqr(L[i], interpolation = 'midpoint')\n",
    "    l=np.max(L[i])-np.min(L[i])\n",
    "    b=int(np.floor((l**(4/3))/2/iqr))\n",
    "    plt.hist(L[i],bins=b)\n",
    "    plt.xlabel('ORF Length')\n",
    "    plt.ylabel('Frequency')\n",
    "    plt.title('Reading frame: +'+str(i))\n",
    "    plt.savefig('q5f'+str(i)+'.pdf')\n",
    "    plt.close()\n"
   ]
  },
  {
   "cell_type": "code",
   "execution_count": 11,
   "metadata": {
    "tags": []
   },
   "outputs": [
    {
     "name": "stdout",
     "output_type": "stream",
     "text": [
      "[4, 10, 4]\n"
     ]
    }
   ],
   "source": [
    "print(L[0][0:3])"
   ]
  },
  {
   "cell_type": "code",
   "execution_count": 12,
   "metadata": {},
   "outputs": [],
   "source": [
    "def entropy1(l): ## Naive-hypothesis\n",
    "    ## There are 4^{l} subsequences. Each occurs with probabiliter 4^{-l}. Therefore total entropy is -log_{2} 4^{l} = 2l --- Per symbols is -2\n",
    "    return -2\n",
    "def entropy2(l): \n",
    "    d={}\n",
    "    i=0\n",
    "    while i<len(s):\n",
    "        if s[i:i+l] in d:\n",
    "            d[s[i:i+l]]=d[s[i:i+l]]+1\n",
    "        else:\n",
    "            d[s[i:i+l]]=1\n",
    "        i=i+l\n",
    "    P=np.array(list(d.values()))\n",
    "    P=P/np.sum(P)\n",
    "    return -1*stats.entropy(P)/l\n"
   ]
  },
  {
   "cell_type": "code",
   "execution_count": 13,
   "metadata": {},
   "outputs": [],
   "source": [
    "X=[1,2,3,4,5,6,7,8]\n",
    "H=[] ## List containing the entropies\n",
    "for x in X:\n",
    "    H.append(entropy2(x)-entropy1(x))"
   ]
  },
  {
   "cell_type": "code",
   "execution_count": 14,
   "metadata": {
    "tags": []
   },
   "outputs": [
    {
     "data": {
      "text/plain": [
       "Text(0.5, 1.0, 'Difference in entropy per symbol: H(P) + 2')"
      ]
     },
     "execution_count": 14,
     "metadata": {},
     "output_type": "execute_result"
    },
    {
     "data": {
      "image/png": "[encoded data removed]",
      "text/plain": [
       "<Figure size 432x288 with 1 Axes>"
      ]
     },
     "metadata": {
      "needs_background": "light"
     },
     "output_type": "display_data"
    }
   ],
   "source": [
    "plt.scatter(X,H,s=5)\n",
    "plt.plot(X,H,lw=0.3,color='red')\n",
    "plt.xlabel(\"Length L of subsequence\")\n",
    "plt.ylabel(r\"Entropy per symbol $\\left(length^{-1}\\right)$\")\n",
    "plt.title(\"Difference in entropy per symbol: H(P) + 2\")"
   ]
  },
  {
   "cell_type": "code",
   "execution_count": 15,
   "metadata": {},
   "outputs": [],
   "source": [
    "plt.scatter(X,H,s=5)\n",
    "plt.plot(X,H,lw=0.3,color='red')\n",
    "plt.xlabel(\"Length L of subsequence\")\n",
    "plt.ylabel(r\"Entropy per symbol $\\left(length^{-1}\\right)$\")\n",
    "plt.title(\"Difference in entropy per symbol: H(P) + 2\")\n",
    "plt.savefig(\"./entropy.pdf\")\n",
    "plt.close()"
   ]
  },
  {
   "cell_type": "code",
   "execution_count": 16,
   "metadata": {},
   "outputs": [],
   "source": [
    "dicts=[{},{},{}]\n",
    "for i in range(3):\n",
    "    for j in range(len(L[i])):\n",
    "        if L[i][j] in dicts[i]:\n",
    "            dicts[i][L[i][j]]=dicts[i][L[i][j]]+1\n",
    "        else:\n",
    "            dicts[i][L[i][j]]=1\n",
    "    v=sum(list(dicts[i].values()))\n",
    "    for each in dicts[i]:\n",
    "        dicts[i][each]=np.log(dicts[i][each]/v)"
   ]
  },
  {
   "cell_type": "code",
   "execution_count": 19,
   "metadata": {},
   "outputs": [],
   "source": [
    "m=-0.04699327344451327\n",
    "a=-3.182267256336975\n",
    "i=0\n",
    "X=np.array(list(dicts[i].keys()))\n",
    "plt.scatter(dicts[i].keys(),dicts[i].values(),s=0.1,c='red',label=\"Reading Frame: +\"+str(i))\n",
    "i=1\n",
    "plt.scatter(dicts[i].keys(),dicts[i].values(),s=0.1,c='green',label=\"Reading Frame: +\"+str(i))\n",
    "i=2\n",
    "plt.scatter(dicts[i].keys(),dicts[i].values(),s=0.1,c='blue',label=\"Reading Frame: +\"+str(i))\n",
    "plt.scatter(X,m*X + a,s=0.1,c='black',label=\"Theoretical\")\n",
    "plt.xlabel(\"ORF Length\")\n",
    "plt.ylabel(\"log(probability)\")\n",
    "plt.title(r\"Determining $L_{cut}$\")\n",
    "plt.legend()\n",
    "plt.savefig('./lcut.pdf')\n",
    "plt.close()\n"
   ]
  }
 ],
 "metadata": {
  "kernelspec": {
   "display_name": "Python 3",
   "language": "python",
   "name": "python3"
  },
  "language_info": {
   "codemirror_mode": {
    "name": "ipython",
    "version": 3
   },
   "file_extension": ".py",
   "mimetype": "text/x-python",
   "name": "python",
   "nbconvert_exporter": "python",
   "pygments_lexer": "ipython3",
   "version": "3.8.3"
  }
 },
 "nbformat": 4,
 "nbformat_minor": 4
}
